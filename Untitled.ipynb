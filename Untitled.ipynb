{
 "cells": [
  {
   "cell_type": "code",
   "execution_count": null,
   "id": "aebceaad-953d-4188-82e7-a730a9a274b6",
   "metadata": {},
   "outputs": [],
   "source": [
    "import streamlit as st\n",
    "import pandas as pd\n",
    "import joblib\n",
    "\n",
    "# Load model, imputer, scaler\n",
    "model = joblib.load(\"Random_Forest_model.pkl\")\n",
    "imputer = joblib.load(\"imputer.pkl\")\n",
    "scaler = joblib.load(\"scaler.pkl\")\n",
    "\n",
    "st.set_page_config(page_title=\"Heart Disease Predictor\", layout=\"centered\")\n",
    "st.title(\"💓 Heart Disease Prediction App\")\n",
    "st.write(\"Enter the details below to check the probability of heart disease.\")\n",
    "\n",
    "# Input fields\n",
    "age = st.number_input(\"Age\", min_value=18, max_value=100, value=50)\n",
    "sex = st.selectbox(\"Sex\", [0, 1], format_func=lambda x: \"Male\" if x == 1 else \"Female\")\n",
    "cp = st.selectbox(\"Chest Pain Type\", [0, 1, 2, 3])\n",
    "trestbps = st.number_input(\"Resting Blood Pressure\", min_value=80, max_value=200, value=120)\n",
    "chol = st.number_input(\"Cholesterol\", min_value=100, max_value=600, value=200)\n",
    "fbs = st.selectbox(\"Fasting Blood Sugar > 120 mg/dl\", [0, 1])\n",
    "restecg = st.selectbox(\"Rest ECG\", [0, 1, 2])\n",
    "thalach = st.number_input(\"Max Heart Rate Achieved\", min_value=60, max_value=250, value=150)\n",
    "exang = st.selectbox(\"Exercise Induced Angina\", [0, 1])\n",
    "oldpeak = st.slider(\"Oldpeak (ST depression)\", 0.0, 6.0, 1.0)\n",
    "slope = st.selectbox(\"Slope of peak exercise ST segment\", [0, 1, 2])\n",
    "ca = st.selectbox(\"Number of major vessels (0-3)\", [0, 1, 2, 3])\n",
    "thall = st.selectbox(\"Thalassemia\", [0, 1, 2, 3])\n",
    "\n",
    "# Create dataframe\n",
    "input_df = pd.DataFrame({\n",
    "    'age': [age],\n",
    "    'sex': [sex],\n",
    "    'cp': [cp],\n",
    "    'trestbps': [trestbps],\n",
    "    'chol': [chol],\n",
    "    'fbs': [fbs],\n",
    "    'restecg': [restecg],\n",
    "    'thalach': [thalach],\n",
    "    'exang': [exang],\n",
    "    'oldpeak': [oldpeak],\n",
    "    'slope': [slope],\n",
    "    'ca': [ca],\n",
    "    'thal': [thall]\n",
    "})\n",
    "\n",
    "# Prediction\n",
    "if st.button(\"Predict\"):\n",
    "    input_imputed = imputer.transform(input_df)\n",
    "    input_scaled = scaler.transform(input_imputed)\n",
    "    prob = model.predict_proba(input_scaled)[0][1]\n",
    "    pred = model.predict(input_scaled)[0]\n",
    "    \n",
    "    st.success(f\"Probability of Heart Disease: {prob:.2f}\")\n",
    "    st.write(\"🔴 High Risk\" if pred == 1 else \"🟢 Low Risk\")\n"
   ]
  },
  {
   "cell_type": "code",
   "execution_count": null,
   "id": "896499fe-8cc7-4630-bcbd-a4946871e457",
   "metadata": {},
   "outputs": [],
   "source": []
  }
 ],
 "metadata": {
  "kernelspec": {
   "display_name": "Python 3 (ipykernel)",
   "language": "python",
   "name": "python3"
  },
  "language_info": {
   "codemirror_mode": {
    "name": "ipython",
    "version": 3
   },
   "file_extension": ".py",
   "mimetype": "text/x-python",
   "name": "python",
   "nbconvert_exporter": "python",
   "pygments_lexer": "ipython3",
   "version": "3.13.3"
  }
 },
 "nbformat": 4,
 "nbformat_minor": 5
}
